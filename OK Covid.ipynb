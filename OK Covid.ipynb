{
 "cells": [
  {
   "cell_type": "code",
   "execution_count": null,
   "metadata": {
    "scrolled": false
   },
   "outputs": [],
   "source": [
    "from covid import get_combined_data, graph_data\n",
    "data = get_combined_data()"
   ]
  },
  {
   "cell_type": "code",
   "execution_count": null,
   "metadata": {},
   "outputs": [],
   "source": [
    "data"
   ]
  },
  {
   "cell_type": "code",
   "execution_count": null,
   "metadata": {},
   "outputs": [],
   "source": [
    "# Cumulative Cases\n",
    "data.filter(['date', 'osdh_ok_cml_cases', 'osdh_tul_cml_cases', 'nyt_ok_cml_cases',\n",
    "             'nyt_tul_cml_cases']).plot(title='Cumulative Cases', rot=90)"
   ]
  },
  {
   "cell_type": "code",
   "execution_count": null,
   "metadata": {},
   "outputs": [],
   "source": [
    "# Cumulative Cases Log\n",
    "data.filter(['Date', 'osdh_ok_cml_cases', 'osdh_tul_cml_cases', 'nyt_ok_cml_cases',\n",
    "             'nyt_tul_cml_cases']).plot(title='Cumulative Cases (log)', rot=90, logy=True)"
   ]
  },
  {
   "cell_type": "code",
   "execution_count": null,
   "metadata": {},
   "outputs": [],
   "source": [
    "# Currently Active Cases\n",
    "data.filter(['Date', 'osdh_ok_current_cases', 'osdh_tul_current_cases']).plot(\n",
    "    title='Currently Active Cases', rot='vertical')"
   ]
  },
  {
   "cell_type": "code",
   "execution_count": null,
   "metadata": {},
   "outputs": [],
   "source": [
    "# New Cases (7-day Rolling)\n",
    "data.filter(['Date', 'osdh_ok_7dr_cases', 'osdh_tul_7dr_cases', 'nyt_ok_7dr_cases',\n",
    "             'nyt_tul_7dr_cases']).plot(title='New Cases (rolling)', rot=90)"
   ]
  },
  {
   "cell_type": "code",
   "execution_count": null,
   "metadata": {},
   "outputs": [],
   "source": []
  }
 ],
 "metadata": {
  "kernelspec": {
   "display_name": "Python 3",
   "language": "python",
   "name": "python3"
  },
  "language_info": {
   "codemirror_mode": {
    "name": "ipython",
    "version": 3
   },
   "file_extension": ".py",
   "mimetype": "text/x-python",
   "name": "python",
   "nbconvert_exporter": "python",
   "pygments_lexer": "ipython3",
   "version": "3.6.9"
  }
 },
 "nbformat": 4,
 "nbformat_minor": 4
}
